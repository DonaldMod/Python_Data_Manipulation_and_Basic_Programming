{
 "cells": [
  {
   "cell_type": "code",
   "execution_count": 2,
   "id": "initial_id",
   "metadata": {
    "ExecuteTime": {
     "end_time": "2024-02-17T15:02:34.651029900Z",
     "start_time": "2024-02-17T15:02:34.641732400Z"
    }
   },
   "outputs": [
    {
     "name": "stdout",
     "output_type": "stream",
     "text": [
      "x is bigger than 1\n",
      "y is smaller than 1\n",
      "z is 1\n",
      "a is not between 1 and 12\n"
     ]
    }
   ],
   "source": [
    "x = 3\n",
    "y = 0\n",
    "z = 1\n",
    "a = 90\n",
    "\n",
    "if (x > 1):\n",
    "    print(\"x is bigger than 1\")\n",
    "\n",
    "\n",
    "if y > 1:\n",
    "    print(\"y is larger than 1\")\n",
    "else:\n",
    "    print(\"y is smaller than 1\")\n",
    "\n",
    "\n",
    "if z > 1:\n",
    "    print(\"z is larger than 1\")\n",
    "elif z == 1:\n",
    "    print(\"z is 1\")\n",
    "else:\n",
    "    print(\"z is smaller than 1\")\n",
    "\n",
    "\n",
    "if a > 1 and a < 12:\n",
    "    print(\"a is between 1 and 12\")\n",
    "else:\n",
    "    print(\"a is not between 1 and 12\")\n"
   ]
  },
  {
   "cell_type": "code",
   "execution_count": null,
   "id": "e89affef",
   "metadata": {},
   "outputs": [],
   "source": []
  },
  {
   "cell_type": "code",
   "execution_count": null,
   "id": "968450d1",
   "metadata": {},
   "outputs": [],
   "source": []
  }
 ],
 "metadata": {
  "kernelspec": {
   "display_name": "Python 3 (ipykernel)",
   "language": "python",
   "name": "python3"
  },
  "language_info": {
   "codemirror_mode": {
    "name": "ipython",
    "version": 3
   },
   "file_extension": ".py",
   "mimetype": "text/x-python",
   "name": "python",
   "nbconvert_exporter": "python",
   "pygments_lexer": "ipython3",
   "version": "3.11.5"
  }
 },
 "nbformat": 4,
 "nbformat_minor": 5
}
