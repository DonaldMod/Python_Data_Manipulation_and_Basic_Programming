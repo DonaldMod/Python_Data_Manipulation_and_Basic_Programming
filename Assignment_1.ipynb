{
 "cells": [
  {
   "cell_type": "code",
   "execution_count": 3,
   "id": "initial_id",
   "metadata": {
    "ExecuteTime": {
     "end_time": "2024-03-04T11:58:44.854147Z",
     "start_time": "2024-03-04T11:58:44.848669200Z"
    },
    "collapsed": true
   },
   "outputs": [],
   "source": [
    "# Instructions:\n",
    "# Dataset: You will be provided with a CSV file named \"students.csv.\" This file contains information about students, including their names, ages, and cities.\n",
    "# \n",
    "# Task: Your task is to create a Python script that reads the CSV dataset, uses the filter_dataframe function (which you must create), and answers specific questions related to data filtering and manipulation.\n",
    "# \n",
    "# Function Description: This function takes three arguments: a Pandas DataFrame, a column name, and a filter value. It returns a new DataFrame containing only the rows where the specified column's value matches the given filter value.  \n",
    "\n",
    "\n",
    "\n",
    "# Questions for this assignment\n",
    "# How many students are there in the dataset who are from 'San Francisco'?\n",
    "# \n",
    "# What is the average age of students from 'Chicago'?\n",
    "# \n",
    "# Create a new DataFrame that contains only the students who are 30 years old or older. How many students meet this criterion?"
   ]
  },
  {
   "cell_type": "code",
   "execution_count": 4,
   "id": "5224446382a4ef2e",
   "metadata": {
    "ExecuteTime": {
     "end_time": "2024-03-04T11:58:44.860283700Z",
     "start_time": "2024-03-04T11:58:44.854147Z"
    },
    "collapsed": false
   },
   "outputs": [],
   "source": [
    "import pandas as pd"
   ]
  },
  {
   "cell_type": "code",
   "execution_count": 5,
   "id": "6c1590b9bf080890",
   "metadata": {
    "ExecuteTime": {
     "end_time": "2024-03-04T11:58:44.905298500Z",
     "start_time": "2024-03-04T11:58:44.860283700Z"
    },
    "collapsed": false
   },
   "outputs": [
    {
     "data": {
      "text/html": [
       "<div>\n",
       "<style scoped>\n",
       "    .dataframe tbody tr th:only-of-type {\n",
       "        vertical-align: middle;\n",
       "    }\n",
       "\n",
       "    .dataframe tbody tr th {\n",
       "        vertical-align: top;\n",
       "    }\n",
       "\n",
       "    .dataframe thead th {\n",
       "        text-align: right;\n",
       "    }\n",
       "</style>\n",
       "<table border=\"1\" class=\"dataframe\">\n",
       "  <thead>\n",
       "    <tr style=\"text-align: right;\">\n",
       "      <th></th>\n",
       "      <th>Name</th>\n",
       "      <th>Age</th>\n",
       "      <th>City</th>\n",
       "    </tr>\n",
       "  </thead>\n",
       "  <tbody>\n",
       "    <tr>\n",
       "      <th>0</th>\n",
       "      <td>Alice</td>\n",
       "      <td>25</td>\n",
       "      <td>New York</td>\n",
       "    </tr>\n",
       "    <tr>\n",
       "      <th>1</th>\n",
       "      <td>Bob</td>\n",
       "      <td>30</td>\n",
       "      <td>San Francisco</td>\n",
       "    </tr>\n",
       "    <tr>\n",
       "      <th>2</th>\n",
       "      <td>Charlie</td>\n",
       "      <td>35</td>\n",
       "      <td>Los Angeles</td>\n",
       "    </tr>\n",
       "    <tr>\n",
       "      <th>3</th>\n",
       "      <td>David</td>\n",
       "      <td>40</td>\n",
       "      <td>Chicago</td>\n",
       "    </tr>\n",
       "    <tr>\n",
       "      <th>4</th>\n",
       "      <td>Eve</td>\n",
       "      <td>25</td>\n",
       "      <td>New York</td>\n",
       "    </tr>\n",
       "    <tr>\n",
       "      <th>5</th>\n",
       "      <td>Frank</td>\n",
       "      <td>28</td>\n",
       "      <td>Boston</td>\n",
       "    </tr>\n",
       "    <tr>\n",
       "      <th>6</th>\n",
       "      <td>Grace</td>\n",
       "      <td>22</td>\n",
       "      <td>San Francisco</td>\n",
       "    </tr>\n",
       "    <tr>\n",
       "      <th>7</th>\n",
       "      <td>Helen</td>\n",
       "      <td>32</td>\n",
       "      <td>Los Angeles</td>\n",
       "    </tr>\n",
       "    <tr>\n",
       "      <th>8</th>\n",
       "      <td>Ivy</td>\n",
       "      <td>29</td>\n",
       "      <td>Chicago</td>\n",
       "    </tr>\n",
       "    <tr>\n",
       "      <th>9</th>\n",
       "      <td>Jack</td>\n",
       "      <td>26</td>\n",
       "      <td>New York</td>\n",
       "    </tr>\n",
       "  </tbody>\n",
       "</table>\n",
       "</div>"
      ],
      "text/plain": [
       "      Name  Age           City\n",
       "0    Alice   25       New York\n",
       "1      Bob   30  San Francisco\n",
       "2  Charlie   35    Los Angeles\n",
       "3    David   40        Chicago\n",
       "4      Eve   25       New York\n",
       "5    Frank   28         Boston\n",
       "6    Grace   22  San Francisco\n",
       "7    Helen   32    Los Angeles\n",
       "8      Ivy   29        Chicago\n",
       "9     Jack   26       New York"
      ]
     },
     "execution_count": 5,
     "metadata": {},
     "output_type": "execute_result"
    }
   ],
   "source": [
    "df = pd.read_csv('students.csv')\n",
    "df"
   ]
  },
  {
   "cell_type": "code",
   "execution_count": 6,
   "id": "c1a482429783a187",
   "metadata": {
    "ExecuteTime": {
     "end_time": "2024-03-04T11:59:50.928196600Z",
     "start_time": "2024-03-04T11:59:50.917756900Z"
    },
    "collapsed": false
   },
   "outputs": [
    {
     "data": {
      "text/plain": [
       "2"
      ]
     },
     "execution_count": 6,
     "metadata": {},
     "output_type": "execute_result"
    }
   ],
   "source": [
    "colName = 'City'\n",
    "filValue = 'San Francisco'\n",
    "def filter_dataframe(pand_Datafram, column_Name, Filter_Value):\n",
    "    filterr1 = pand_Datafram[pand_Datafram[column_Name] == Filter_Value].count()\n",
    "    return filterr1['Age']\n",
    "\n",
    "filter_dataframe(df, colName, filValue)"
   ]
  },
  {
   "cell_type": "code",
   "execution_count": 7,
   "id": "1ef19c45",
   "metadata": {},
   "outputs": [
    {
     "data": {
      "text/plain": [
       "34.5"
      ]
     },
     "execution_count": 7,
     "metadata": {},
     "output_type": "execute_result"
    }
   ],
   "source": [
    "colName = 'City'\n",
    "filValue = 'Chicago'\n",
    "\n",
    "def filter_dataframe1(pand_Datafram, column_Name, Filter_Value):\n",
    "    filterr1 = pand_Datafram[pand_Datafram[column_Name] == Filter_Value]\n",
    "    return filterr1['Age'].mean()\n",
    "\n",
    "filter_dataframe1(df, colName, filValue)"
   ]
  },
  {
   "cell_type": "code",
   "execution_count": 8,
   "id": "936ffa02",
   "metadata": {},
   "outputs": [
    {
     "data": {
      "text/plain": [
       "4"
      ]
     },
     "execution_count": 8,
     "metadata": {},
     "output_type": "execute_result"
    }
   ],
   "source": [
    "colName = 'Age'\n",
    "filValue = 30\n",
    "\n",
    "def filter_dataframe2(pand_Datafram, column_Name, Filter_Value):\n",
    "    filterr1 = pand_Datafram[pand_Datafram[column_Name] >= Filter_Value]\n",
    "    return filterr1[column_Name].count()\n",
    "\n",
    "filter_dataframe2(df, colName, filValue)"
   ]
  }
 ],
 "metadata": {
  "kernelspec": {
   "display_name": "Python 3",
   "language": "python",
   "name": "python3"
  },
  "language_info": {
   "codemirror_mode": {
    "name": "ipython",
    "version": 3
   },
   "file_extension": ".py",
   "mimetype": "text/x-python",
   "name": "python",
   "nbconvert_exporter": "python",
   "pygments_lexer": "ipython3",
   "version": "3.11.4"
  }
 },
 "nbformat": 4,
 "nbformat_minor": 5
}
