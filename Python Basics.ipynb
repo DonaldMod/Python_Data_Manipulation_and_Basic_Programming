{
 "cells": [
  {
   "cell_type": "code",
   "execution_count": 19,
   "id": "initial_id",
   "metadata": {
    "ExecuteTime": {
     "end_time": "2024-02-17T14:34:52.939526200Z",
     "start_time": "2024-02-17T14:34:52.928011Z"
    },
    "collapsed": true
   },
   "outputs": [
    {
     "name": "stdout",
     "output_type": "stream",
     "text": [
      "17 <class 'int'>\n"
     ]
    }
   ],
   "source": [
    "import math\n",
    "import random\n",
    "\n",
    "stringName = \"Hello World\"\n",
    "integer = 4\n",
    "integer1 = float(4)\n",
    "float_ = 3.14\n",
    "float_1 = int(3.14)\n",
    "boolean = True\n",
    "boolean2 = 3 < 2\n",
    "boolean3 = 3 == 2\n",
    "boolean3 = 3 != 2\n",
    "\n",
    "operation = 13 / 4\n",
    "operation1 = \"13\" + \"4\"\n",
    "operation2 = int(\"13\") + 4\n",
    "\n",
    "variableOfInterest = operation2\n",
    "print(variableOfInterest, type(variableOfInterest))"
   ]
  },
  {
   "cell_type": "code",
   "execution_count": 22,
   "id": "d762365d269b1b11",
   "metadata": {
    "ExecuteTime": {
     "end_time": "2024-02-17T14:35:24.685706700Z",
     "start_time": "2024-02-17T14:35:24.676185900Z"
    },
    "collapsed": false
   },
   "outputs": [
    {
     "name": "stdout",
     "output_type": "stream",
     "text": [
      "5\n"
     ]
    }
   ],
   "source": [
    "po = \"ppopo\"\n",
    "leee = len(po)\n",
    "\n",
    "#format()\n",
    "print(leee)"
   ]
  },
  {
   "cell_type": "code",
   "execution_count": 23,
   "id": "9c1ce332dc07d852",
   "metadata": {
    "ExecuteTime": {
     "end_time": "2024-02-17T14:35:28.408512700Z",
     "start_time": "2024-02-17T14:35:28.398579500Z"
    },
    "collapsed": false
   },
   "outputs": [
    {
     "name": "stdout",
     "output_type": "stream",
     "text": [
      "0b10\n",
      "0o11\n",
      "0x9\n"
     ]
    }
   ],
   "source": [
    "num1 = 2\n",
    "num2 = 3\n",
    "num3 = 5 + 4\n",
    "\n",
    "sum = bin(num1)\n",
    "sum1 = oct(num3)\n",
    "sum2 =hex(num3)\n",
    "\n",
    "print(sum)\n",
    "print(sum1)\n",
    "print(sum2)"
   ]
  },
  {
   "cell_type": "code",
   "execution_count": 67,
   "id": "5d108e4e12f37f48",
   "metadata": {
    "ExecuteTime": {
     "end_time": "2024-02-17T14:45:19.444578900Z",
     "start_time": "2024-02-17T14:45:19.434866600Z"
    },
    "collapsed": false
   },
   "outputs": [
    {
     "name": "stdout",
     "output_type": "stream",
     "text": [
      "17\n",
      "57\n",
      "[5, 5]\n",
      "9\n"
     ]
    }
   ],
   "source": [
    "import random\n",
    "arr1 = [5,5,6,3,5,8,9,10,102,20,30,58,63,95,23,0,3]\n",
    "\n",
    "p = len(arr1)\n",
    "ramp = random.randint(2,90)\n",
    "ramp1 = random.choices(arr1,k=2)\n",
    "ramp2 = random.choice(arr1)\n",
    "\n",
    "print(p)\n",
    "print(ramp)\n",
    "print(ramp1)\n",
    "print(ramp2)"
   ]
  },
  {
   "cell_type": "code",
   "execution_count": 70,
   "id": "c66357036e65489d",
   "metadata": {
    "ExecuteTime": {
     "end_time": "2024-02-17T14:46:03.177860700Z",
     "start_time": "2024-02-17T14:46:03.174583700Z"
    },
    "collapsed": false
   },
   "outputs": [
    {
     "name": "stdout",
     "output_type": "stream",
     "text": [
      "25.0\n",
      "2.449489742783178\n"
     ]
    }
   ],
   "source": [
    "import math\n",
    "\n",
    "num5 = 5\n",
    "num6 = 6\n",
    "\n",
    "popo = math.pow(num5,2)\n",
    "popo1 = math.sqrt(num6)\n",
    "\n",
    "print(popo)\n",
    "print(popo1)"
   ]
  }
 ],
 "metadata": {
  "kernelspec": {
   "display_name": "Python 3",
   "language": "python",
   "name": "python3"
  },
  "language_info": {
   "codemirror_mode": {
    "name": "ipython",
    "version": 2
   },
   "file_extension": ".py",
   "mimetype": "text/x-python",
   "name": "python",
   "nbconvert_exporter": "python",
   "pygments_lexer": "ipython2",
   "version": "2.7.6"
  }
 },
 "nbformat": 4,
 "nbformat_minor": 5
}
