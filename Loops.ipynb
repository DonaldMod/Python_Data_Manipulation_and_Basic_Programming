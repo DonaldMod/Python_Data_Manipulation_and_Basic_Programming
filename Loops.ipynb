{
 "cells": [
  {
   "cell_type": "code",
   "execution_count": 8,
   "id": "initial_id",
   "metadata": {
    "collapsed": true,
    "ExecuteTime": {
     "end_time": "2024-02-21T13:40:28.444697700Z",
     "start_time": "2024-02-21T13:40:28.437469400Z"
    }
   },
   "outputs": [
    {
     "name": "stdout",
     "output_type": "stream",
     "text": [
      "1\n",
      "2\n",
      "3\n",
      "4\n",
      "5\n",
      "6\n",
      "7\n",
      "8\n",
      "9\n"
     ]
    }
   ],
   "source": [
    "listVal = [1,2,3,4,5,6,7,8,9]\n",
    "\n",
    "for i in listVal:\n",
    "    print(i)\n"
   ]
  },
  {
   "cell_type": "code",
   "outputs": [
    {
     "name": "stdout",
     "output_type": "stream",
     "text": [
      "\n",
      "1\n",
      "2\n",
      "3\n",
      "4\n",
      "5\n",
      "6\n",
      "7\n",
      "8\n"
     ]
    }
   ],
   "source": [
    "print()\n",
    "for i in range(1,9):\n",
    "    print(i)\n"
   ],
   "metadata": {
    "collapsed": false,
    "ExecuteTime": {
     "end_time": "2024-02-21T13:41:32.572588600Z",
     "start_time": "2024-02-21T13:41:32.563591100Z"
    }
   },
   "id": "3c02b2c7fe882202",
   "execution_count": 12
  },
  {
   "cell_type": "code",
   "outputs": [
    {
     "name": "stdout",
     "output_type": "stream",
     "text": [
      "\n",
      "1\n",
      "4\n",
      "9\n",
      "16\n",
      "25\n",
      "36\n",
      "49\n",
      "64\n"
     ]
    }
   ],
   "source": [
    "print()\n",
    "for i in range(1,9):\n",
    "    print(i**2)\n",
    "\n"
   ],
   "metadata": {
    "collapsed": false,
    "ExecuteTime": {
     "end_time": "2024-02-21T13:41:26.684987200Z",
     "start_time": "2024-02-21T13:41:26.680506500Z"
    }
   },
   "id": "211c35d5afbf3b04",
   "execution_count": 11
  },
  {
   "cell_type": "code",
   "outputs": [
    {
     "name": "stdout",
     "output_type": "stream",
     "text": [
      "1\n",
      "2\n",
      "3\n",
      "4\n",
      "5\n",
      "6\n",
      "7\n",
      "8\n",
      "9\n"
     ]
    }
   ],
   "source": [
    "counter = 0\n",
    "while counter < len(listVal):\n",
    "    print(listVal[counter])\n",
    "    counter += 1\n",
    "\n",
    "\n"
   ],
   "metadata": {
    "collapsed": false,
    "ExecuteTime": {
     "end_time": "2024-02-21T13:42:03.802068300Z",
     "start_time": "2024-02-21T13:42:03.795075200Z"
    }
   },
   "id": "d67d8f2938f4a7fb",
   "execution_count": 13
  },
  {
   "cell_type": "code",
   "outputs": [
    {
     "name": "stdout",
     "output_type": "stream",
     "text": [
      "Number is found\n"
     ]
    }
   ],
   "source": [
    "number_to_search = 5\n",
    "for i in listVal:\n",
    "    if i == number_to_search:\n",
    "        print(\"Number is found\")\n",
    "        break\n",
    "else:\n",
    "    print(\"No more elements\")"
   ],
   "metadata": {
    "collapsed": false,
    "ExecuteTime": {
     "end_time": "2024-02-21T13:42:58.945725500Z",
     "start_time": "2024-02-21T13:42:58.934351900Z"
    }
   },
   "id": "48b281ba9511c179",
   "execution_count": 18
  }
 ],
 "metadata": {
  "kernelspec": {
   "display_name": "Python 3",
   "language": "python",
   "name": "python3"
  },
  "language_info": {
   "codemirror_mode": {
    "name": "ipython",
    "version": 2
   },
   "file_extension": ".py",
   "mimetype": "text/x-python",
   "name": "python",
   "nbconvert_exporter": "python",
   "pygments_lexer": "ipython2",
   "version": "2.7.6"
  }
 },
 "nbformat": 4,
 "nbformat_minor": 5
}
