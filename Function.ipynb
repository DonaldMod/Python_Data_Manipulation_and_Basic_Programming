{
 "cells": [
  {
   "cell_type": "code",
   "execution_count": 19,
   "id": "initial_id",
   "metadata": {
    "collapsed": true,
    "ExecuteTime": {
     "end_time": "2024-02-19T13:50:13.816799300Z",
     "start_time": "2024-02-19T13:50:13.811383700Z"
    }
   },
   "outputs": [
    {
     "name": "stdout",
     "output_type": "stream",
     "text": [
      "9\n",
      "8\n",
      "False\n"
     ]
    }
   ],
   "source": [
    "def squared(x:int):\n",
    "    '''\n",
    "    :param x:  int\n",
    "    :return: y: int returns square of x\n",
    "    '''\n",
    "    y = x ** 2\n",
    "    return y\n",
    "\n",
    "def powe(x, times):\n",
    "    return x ** times\n",
    "\n",
    "assert powe(3,2) == squared(3)\n",
    "assert powe(5,2) == squared(5), \"There is a mistake with the function\"\n",
    "\n",
    "\n",
    "\n",
    "print(squared(3))\n",
    "print(powe(2,3))\n",
    "print(powe(3,4) == squared(3))"
   ]
  },
  {
   "cell_type": "code",
   "outputs": [
    {
     "name": "stdout",
     "output_type": "stream",
     "text": [
      "Hello, Don ! You are 5 years old.\n"
     ]
    }
   ],
   "source": [
    "def greet(name: str, age: int) -> str:\n",
    "    # Do something here\n",
    "    greeting = f\"Hello, {name} ! You are {age} years old.\"\n",
    "    return greeting # here you should return the final string \"Hello, [name]! You are [age] years old.\"\n",
    "\n",
    "print(greet(\"Don\", 5))\n",
    "\n",
    "\n",
    "for item in range(5):\n",
    "    result = result +1"
   ],
   "metadata": {
    "collapsed": false,
    "ExecuteTime": {
     "end_time": "2024-02-19T14:05:23.594640600Z",
     "start_time": "2024-02-19T14:05:23.588766200Z"
    }
   },
   "id": "5104f487fc42a766",
   "execution_count": 22
  }
 ],
 "metadata": {
  "kernelspec": {
   "display_name": "Python 3",
   "language": "python",
   "name": "python3"
  },
  "language_info": {
   "codemirror_mode": {
    "name": "ipython",
    "version": 2
   },
   "file_extension": ".py",
   "mimetype": "text/x-python",
   "name": "python",
   "nbconvert_exporter": "python",
   "pygments_lexer": "ipython2",
   "version": "2.7.6"
  }
 },
 "nbformat": 4,
 "nbformat_minor": 5
}
