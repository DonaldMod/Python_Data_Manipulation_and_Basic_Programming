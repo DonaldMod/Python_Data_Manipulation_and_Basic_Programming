{
 "cells": [
  {
   "cell_type": "code",
   "execution_count": 33,
   "id": "initial_id",
   "metadata": {
    "collapsed": true,
    "ExecuteTime": {
     "end_time": "2024-02-29T17:06:08.625656800Z",
     "start_time": "2024-02-29T17:06:08.620129300Z"
    }
   },
   "outputs": [],
   "source": [
    "import pandas as pd"
   ]
  },
  {
   "cell_type": "code",
   "outputs": [
    {
     "data": {
      "text/plain": "<module 'pandas' from 'C:\\\\Users\\\\Donald.Modiba\\\\Desktop\\\\Altron\\\\Udemy\\\\Python\\\\Data Engineering for Beginners with Python and SQL\\\\venv\\\\Lib\\\\site-packages\\\\pandas\\\\__init__.py'>"
     },
     "execution_count": 34,
     "metadata": {},
     "output_type": "execute_result"
    }
   ],
   "source": [
    "pd"
   ],
   "metadata": {
    "collapsed": false,
    "ExecuteTime": {
     "end_time": "2024-02-29T17:06:08.642555800Z",
     "start_time": "2024-02-29T17:06:08.630000300Z"
    }
   },
   "id": "7f29377b00042ea3",
   "execution_count": 34
  },
  {
   "cell_type": "code",
   "outputs": [],
   "source": [
    "data = {\n",
    "    'Name' : ['Angela', 'Daniel', 'Daniel', 'Marko', 'Marko','Angela'],\n",
    "    'Age' : [25,33,33,30, 32, 31]\n",
    "}"
   ],
   "metadata": {
    "collapsed": false,
    "ExecuteTime": {
     "end_time": "2024-02-29T17:06:08.716316800Z",
     "start_time": "2024-02-29T17:06:08.640399900Z"
    }
   },
   "id": "7dd7600e344eb22a",
   "execution_count": 35
  },
  {
   "cell_type": "code",
   "outputs": [
    {
     "data": {
      "text/plain": "     Name  Age\n0  Angela   25\n1  Daniel   33\n2  Daniel   33\n3   Marko   30\n4   Marko   32\n5  Angela   31",
      "text/html": "<div>\n<style scoped>\n    .dataframe tbody tr th:only-of-type {\n        vertical-align: middle;\n    }\n\n    .dataframe tbody tr th {\n        vertical-align: top;\n    }\n\n    .dataframe thead th {\n        text-align: right;\n    }\n</style>\n<table border=\"1\" class=\"dataframe\">\n  <thead>\n    <tr style=\"text-align: right;\">\n      <th></th>\n      <th>Name</th>\n      <th>Age</th>\n    </tr>\n  </thead>\n  <tbody>\n    <tr>\n      <th>0</th>\n      <td>Angela</td>\n      <td>25</td>\n    </tr>\n    <tr>\n      <th>1</th>\n      <td>Daniel</td>\n      <td>33</td>\n    </tr>\n    <tr>\n      <th>2</th>\n      <td>Daniel</td>\n      <td>33</td>\n    </tr>\n    <tr>\n      <th>3</th>\n      <td>Marko</td>\n      <td>30</td>\n    </tr>\n    <tr>\n      <th>4</th>\n      <td>Marko</td>\n      <td>32</td>\n    </tr>\n    <tr>\n      <th>5</th>\n      <td>Angela</td>\n      <td>31</td>\n    </tr>\n  </tbody>\n</table>\n</div>"
     },
     "execution_count": 36,
     "metadata": {},
     "output_type": "execute_result"
    }
   ],
   "source": [
    "df = pd.DataFrame(data)\n",
    "df"
   ],
   "metadata": {
    "collapsed": false,
    "ExecuteTime": {
     "end_time": "2024-02-29T17:06:08.717560900Z",
     "start_time": "2024-02-29T17:06:08.644761900Z"
    }
   },
   "id": "1130f5530327fca9",
   "execution_count": 36
  },
  {
   "cell_type": "code",
   "outputs": [
    {
     "data": {
      "text/plain": "0    Angela\n1    Daniel\n2    Daniel\n3     Marko\n4     Marko\n5    Angela\nName: Name, dtype: object"
     },
     "execution_count": 37,
     "metadata": {},
     "output_type": "execute_result"
    }
   ],
   "source": [
    "df['Name']"
   ],
   "metadata": {
    "collapsed": false,
    "ExecuteTime": {
     "end_time": "2024-02-29T17:06:08.718634600Z",
     "start_time": "2024-02-29T17:06:08.654733900Z"
    }
   },
   "id": "45608f746b960997",
   "execution_count": 37
  },
  {
   "cell_type": "code",
   "outputs": [
    {
     "data": {
      "text/plain": "0    25\n1    33\n2    33\n3    30\n4    32\n5    31\nName: Age, dtype: int64"
     },
     "execution_count": 38,
     "metadata": {},
     "output_type": "execute_result"
    }
   ],
   "source": [
    "df['Age']"
   ],
   "metadata": {
    "collapsed": false,
    "ExecuteTime": {
     "end_time": "2024-02-29T17:06:08.756938800Z",
     "start_time": "2024-02-29T17:06:08.721986100Z"
    }
   },
   "id": "409811b66d91a076",
   "execution_count": 38
  },
  {
   "cell_type": "code",
   "outputs": [
    {
     "data": {
      "text/plain": "0    False\n1     True\n2     True\n3     True\n4     True\n5     True\nName: Age, dtype: bool"
     },
     "execution_count": 39,
     "metadata": {},
     "output_type": "execute_result"
    }
   ],
   "source": [
    "df['Age'] >= 30"
   ],
   "metadata": {
    "collapsed": false,
    "ExecuteTime": {
     "end_time": "2024-02-29T17:06:08.854542600Z",
     "start_time": "2024-02-29T17:06:08.760313300Z"
    }
   },
   "id": "5879bab6b7af523b",
   "execution_count": 39
  },
  {
   "cell_type": "code",
   "outputs": [
    {
     "data": {
      "text/plain": "     Name  Age\n1  Daniel   33\n2  Daniel   33\n3   Marko   30\n4   Marko   32\n5  Angela   31",
      "text/html": "<div>\n<style scoped>\n    .dataframe tbody tr th:only-of-type {\n        vertical-align: middle;\n    }\n\n    .dataframe tbody tr th {\n        vertical-align: top;\n    }\n\n    .dataframe thead th {\n        text-align: right;\n    }\n</style>\n<table border=\"1\" class=\"dataframe\">\n  <thead>\n    <tr style=\"text-align: right;\">\n      <th></th>\n      <th>Name</th>\n      <th>Age</th>\n    </tr>\n  </thead>\n  <tbody>\n    <tr>\n      <th>1</th>\n      <td>Daniel</td>\n      <td>33</td>\n    </tr>\n    <tr>\n      <th>2</th>\n      <td>Daniel</td>\n      <td>33</td>\n    </tr>\n    <tr>\n      <th>3</th>\n      <td>Marko</td>\n      <td>30</td>\n    </tr>\n    <tr>\n      <th>4</th>\n      <td>Marko</td>\n      <td>32</td>\n    </tr>\n    <tr>\n      <th>5</th>\n      <td>Angela</td>\n      <td>31</td>\n    </tr>\n  </tbody>\n</table>\n</div>"
     },
     "execution_count": 40,
     "metadata": {},
     "output_type": "execute_result"
    }
   ],
   "source": [
    "filter_ = df['Age'] >= 30\n",
    "df[filter_]"
   ],
   "metadata": {
    "collapsed": false,
    "ExecuteTime": {
     "end_time": "2024-02-29T17:06:08.869840Z",
     "start_time": "2024-02-29T17:06:08.825857900Z"
    }
   },
   "id": "bcc3cd020ff35c13",
   "execution_count": 40
  },
  {
   "cell_type": "code",
   "outputs": [
    {
     "data": {
      "text/plain": "         Age\nName        \nAngela  28.0\nDaniel  33.0\nMarko   31.0",
      "text/html": "<div>\n<style scoped>\n    .dataframe tbody tr th:only-of-type {\n        vertical-align: middle;\n    }\n\n    .dataframe tbody tr th {\n        vertical-align: top;\n    }\n\n    .dataframe thead th {\n        text-align: right;\n    }\n</style>\n<table border=\"1\" class=\"dataframe\">\n  <thead>\n    <tr style=\"text-align: right;\">\n      <th></th>\n      <th>Age</th>\n    </tr>\n    <tr>\n      <th>Name</th>\n      <th></th>\n    </tr>\n  </thead>\n  <tbody>\n    <tr>\n      <th>Angela</th>\n      <td>28.0</td>\n    </tr>\n    <tr>\n      <th>Daniel</th>\n      <td>33.0</td>\n    </tr>\n    <tr>\n      <th>Marko</th>\n      <td>31.0</td>\n    </tr>\n  </tbody>\n</table>\n</div>"
     },
     "execution_count": 41,
     "metadata": {},
     "output_type": "execute_result"
    }
   ],
   "source": [
    "df.groupby(\"Name\").agg(\n",
    "    {\n",
    "        'Age' : \"mean\"\n",
    "    }\n",
    ")"
   ],
   "metadata": {
    "collapsed": false,
    "ExecuteTime": {
     "end_time": "2024-02-29T17:06:08.901919700Z",
     "start_time": "2024-02-29T17:06:08.874786200Z"
    }
   },
   "id": "34a8ee4807b46384",
   "execution_count": 41
  },
  {
   "cell_type": "code",
   "outputs": [],
   "source": [
    "g = df.groupby(\"Name\").agg(\n",
    "    {\n",
    "        'Age' : \"max\"\n",
    "    }\n",
    ")"
   ],
   "metadata": {
    "collapsed": false,
    "ExecuteTime": {
     "end_time": "2024-02-29T17:06:09.003836300Z",
     "start_time": "2024-02-29T17:06:08.905204200Z"
    }
   },
   "id": "54647e290640db39",
   "execution_count": 42
  },
  {
   "cell_type": "code",
   "outputs": [
    {
     "data": {
      "text/plain": "Index(['Angela', 'Daniel', 'Marko'], dtype='object', name='Name')"
     },
     "execution_count": 43,
     "metadata": {},
     "output_type": "execute_result"
    }
   ],
   "source": [
    "g.index"
   ],
   "metadata": {
    "collapsed": false,
    "ExecuteTime": {
     "end_time": "2024-02-29T17:06:09.065481600Z",
     "start_time": "2024-02-29T17:06:08.980625100Z"
    }
   },
   "id": "ab3199f063c38caf",
   "execution_count": 43
  },
  {
   "cell_type": "code",
   "outputs": [
    {
     "data": {
      "text/plain": "RangeIndex(start=0, stop=6, step=1)"
     },
     "execution_count": 44,
     "metadata": {},
     "output_type": "execute_result"
    }
   ],
   "source": [
    "df.index"
   ],
   "metadata": {
    "collapsed": false,
    "ExecuteTime": {
     "end_time": "2024-02-29T17:06:09.174187400Z",
     "start_time": "2024-02-29T17:06:09.070279800Z"
    }
   },
   "id": "94b55dd4dadcc8da",
   "execution_count": 44
  },
  {
   "cell_type": "code",
   "outputs": [
    {
     "data": {
      "text/plain": "     Name  Age\n0  Angela   31\n1  Daniel   33\n2   Marko   32",
      "text/html": "<div>\n<style scoped>\n    .dataframe tbody tr th:only-of-type {\n        vertical-align: middle;\n    }\n\n    .dataframe tbody tr th {\n        vertical-align: top;\n    }\n\n    .dataframe thead th {\n        text-align: right;\n    }\n</style>\n<table border=\"1\" class=\"dataframe\">\n  <thead>\n    <tr style=\"text-align: right;\">\n      <th></th>\n      <th>Name</th>\n      <th>Age</th>\n    </tr>\n  </thead>\n  <tbody>\n    <tr>\n      <th>0</th>\n      <td>Angela</td>\n      <td>31</td>\n    </tr>\n    <tr>\n      <th>1</th>\n      <td>Daniel</td>\n      <td>33</td>\n    </tr>\n    <tr>\n      <th>2</th>\n      <td>Marko</td>\n      <td>32</td>\n    </tr>\n  </tbody>\n</table>\n</div>"
     },
     "execution_count": 45,
     "metadata": {},
     "output_type": "execute_result"
    }
   ],
   "source": [
    "g.reset_index()"
   ],
   "metadata": {
    "collapsed": false,
    "ExecuteTime": {
     "end_time": "2024-02-29T17:06:09.211671600Z",
     "start_time": "2024-02-29T17:06:09.178613900Z"
    }
   },
   "id": "489c807f774922fd",
   "execution_count": 45
  },
  {
   "cell_type": "code",
   "outputs": [
    {
     "data": {
      "text/plain": "     Name  Age\n0  Angela   25\n1  Daniel   33\n3   Marko   30\n4   Marko   32\n5  Angela   31",
      "text/html": "<div>\n<style scoped>\n    .dataframe tbody tr th:only-of-type {\n        vertical-align: middle;\n    }\n\n    .dataframe tbody tr th {\n        vertical-align: top;\n    }\n\n    .dataframe thead th {\n        text-align: right;\n    }\n</style>\n<table border=\"1\" class=\"dataframe\">\n  <thead>\n    <tr style=\"text-align: right;\">\n      <th></th>\n      <th>Name</th>\n      <th>Age</th>\n    </tr>\n  </thead>\n  <tbody>\n    <tr>\n      <th>0</th>\n      <td>Angela</td>\n      <td>25</td>\n    </tr>\n    <tr>\n      <th>1</th>\n      <td>Daniel</td>\n      <td>33</td>\n    </tr>\n    <tr>\n      <th>3</th>\n      <td>Marko</td>\n      <td>30</td>\n    </tr>\n    <tr>\n      <th>4</th>\n      <td>Marko</td>\n      <td>32</td>\n    </tr>\n    <tr>\n      <th>5</th>\n      <td>Angela</td>\n      <td>31</td>\n    </tr>\n  </tbody>\n</table>\n</div>"
     },
     "execution_count": 46,
     "metadata": {},
     "output_type": "execute_result"
    }
   ],
   "source": [
    "df.drop_duplicates()"
   ],
   "metadata": {
    "collapsed": false,
    "ExecuteTime": {
     "end_time": "2024-02-29T17:09:24.951702600Z",
     "start_time": "2024-02-29T17:09:24.930657400Z"
    }
   },
   "id": "b4f5fedc5be1826",
   "execution_count": 46
  },
  {
   "cell_type": "code",
   "outputs": [
    {
     "data": {
      "text/plain": "   index    Name  Age\n0      0  Angela   25\n1      1  Daniel   33\n2      3   Marko   30\n3      4   Marko   32\n4      5  Angela   31",
      "text/html": "<div>\n<style scoped>\n    .dataframe tbody tr th:only-of-type {\n        vertical-align: middle;\n    }\n\n    .dataframe tbody tr th {\n        vertical-align: top;\n    }\n\n    .dataframe thead th {\n        text-align: right;\n    }\n</style>\n<table border=\"1\" class=\"dataframe\">\n  <thead>\n    <tr style=\"text-align: right;\">\n      <th></th>\n      <th>index</th>\n      <th>Name</th>\n      <th>Age</th>\n    </tr>\n  </thead>\n  <tbody>\n    <tr>\n      <th>0</th>\n      <td>0</td>\n      <td>Angela</td>\n      <td>25</td>\n    </tr>\n    <tr>\n      <th>1</th>\n      <td>1</td>\n      <td>Daniel</td>\n      <td>33</td>\n    </tr>\n    <tr>\n      <th>2</th>\n      <td>3</td>\n      <td>Marko</td>\n      <td>30</td>\n    </tr>\n    <tr>\n      <th>3</th>\n      <td>4</td>\n      <td>Marko</td>\n      <td>32</td>\n    </tr>\n    <tr>\n      <th>4</th>\n      <td>5</td>\n      <td>Angela</td>\n      <td>31</td>\n    </tr>\n  </tbody>\n</table>\n</div>"
     },
     "execution_count": 47,
     "metadata": {},
     "output_type": "execute_result"
    }
   ],
   "source": [
    "df.drop_duplicates().reset_index()"
   ],
   "metadata": {
    "collapsed": false,
    "ExecuteTime": {
     "end_time": "2024-02-29T17:16:41.444621300Z",
     "start_time": "2024-02-29T17:16:41.427990100Z"
    }
   },
   "id": "54168b2ca8540201",
   "execution_count": 47
  },
  {
   "cell_type": "code",
   "outputs": [
    {
     "data": {
      "text/plain": "     Name  Age\n0  Angela   25\n1  Daniel   33\n2   Marko   30\n3   Marko   32\n4  Angela   31",
      "text/html": "<div>\n<style scoped>\n    .dataframe tbody tr th:only-of-type {\n        vertical-align: middle;\n    }\n\n    .dataframe tbody tr th {\n        vertical-align: top;\n    }\n\n    .dataframe thead th {\n        text-align: right;\n    }\n</style>\n<table border=\"1\" class=\"dataframe\">\n  <thead>\n    <tr style=\"text-align: right;\">\n      <th></th>\n      <th>Name</th>\n      <th>Age</th>\n    </tr>\n  </thead>\n  <tbody>\n    <tr>\n      <th>0</th>\n      <td>Angela</td>\n      <td>25</td>\n    </tr>\n    <tr>\n      <th>1</th>\n      <td>Daniel</td>\n      <td>33</td>\n    </tr>\n    <tr>\n      <th>2</th>\n      <td>Marko</td>\n      <td>30</td>\n    </tr>\n    <tr>\n      <th>3</th>\n      <td>Marko</td>\n      <td>32</td>\n    </tr>\n    <tr>\n      <th>4</th>\n      <td>Angela</td>\n      <td>31</td>\n    </tr>\n  </tbody>\n</table>\n</div>"
     },
     "execution_count": 48,
     "metadata": {},
     "output_type": "execute_result"
    }
   ],
   "source": [
    "df.drop_duplicates().reset_index(drop=True)"
   ],
   "metadata": {
    "collapsed": false,
    "ExecuteTime": {
     "end_time": "2024-02-29T17:18:57.358342200Z",
     "start_time": "2024-02-29T17:18:57.350823300Z"
    }
   },
   "id": "c25ebb6c18da132a",
   "execution_count": 48
  }
 ],
 "metadata": {
  "kernelspec": {
   "display_name": "Python 3",
   "language": "python",
   "name": "python3"
  },
  "language_info": {
   "codemirror_mode": {
    "name": "ipython",
    "version": 2
   },
   "file_extension": ".py",
   "mimetype": "text/x-python",
   "name": "python",
   "nbconvert_exporter": "python",
   "pygments_lexer": "ipython2",
   "version": "2.7.6"
  }
 },
 "nbformat": 4,
 "nbformat_minor": 5
}
