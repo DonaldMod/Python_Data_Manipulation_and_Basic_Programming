{
 "cells": [
  {
   "cell_type": "code",
   "execution_count": 4,
   "id": "initial_id",
   "metadata": {
    "ExecuteTime": {
     "end_time": "2024-03-04T13:52:54.071673600Z",
     "start_time": "2024-03-04T13:52:54.064020Z"
    },
    "collapsed": true
   },
   "outputs": [],
   "source": [
    "import pandas as pd"
   ]
  },
  {
   "cell_type": "code",
   "execution_count": 5,
   "id": "e939778513c9800f",
   "metadata": {
    "ExecuteTime": {
     "end_time": "2024-03-04T13:52:54.120664800Z",
     "start_time": "2024-03-04T13:52:54.074945200Z"
    },
    "collapsed": false
   },
   "outputs": [
    {
     "data": {
      "text/html": [
       "<div>\n",
       "<style scoped>\n",
       "    .dataframe tbody tr th:only-of-type {\n",
       "        vertical-align: middle;\n",
       "    }\n",
       "\n",
       "    .dataframe tbody tr th {\n",
       "        vertical-align: top;\n",
       "    }\n",
       "\n",
       "    .dataframe thead th {\n",
       "        text-align: right;\n",
       "    }\n",
       "</style>\n",
       "<table border=\"1\" class=\"dataframe\">\n",
       "  <thead>\n",
       "    <tr style=\"text-align: right;\">\n",
       "      <th></th>\n",
       "      <th>University Rank</th>\n",
       "      <th>Name of University</th>\n",
       "      <th>Location</th>\n",
       "      <th>No of student</th>\n",
       "      <th>No of student per staff</th>\n",
       "      <th>International Student</th>\n",
       "      <th>Female:Male Ratio</th>\n",
       "      <th>OverAll Score</th>\n",
       "      <th>Teaching Score</th>\n",
       "      <th>Research Score</th>\n",
       "      <th>Citations Score</th>\n",
       "      <th>Industry Income Score</th>\n",
       "      <th>International Outlook Score</th>\n",
       "    </tr>\n",
       "  </thead>\n",
       "  <tbody>\n",
       "    <tr>\n",
       "      <th>0</th>\n",
       "      <td>1</td>\n",
       "      <td>University of Oxford</td>\n",
       "      <td>United Kingdom</td>\n",
       "      <td>20,965</td>\n",
       "      <td>10.6</td>\n",
       "      <td>42%</td>\n",
       "      <td>48 : 52</td>\n",
       "      <td>96.4</td>\n",
       "      <td>92.3</td>\n",
       "      <td>99.7</td>\n",
       "      <td>99.0</td>\n",
       "      <td>74.9</td>\n",
       "      <td>96.2</td>\n",
       "    </tr>\n",
       "    <tr>\n",
       "      <th>1</th>\n",
       "      <td>2</td>\n",
       "      <td>Harvard University</td>\n",
       "      <td>United States</td>\n",
       "      <td>21,887</td>\n",
       "      <td>9.6</td>\n",
       "      <td>25%</td>\n",
       "      <td>50 : 50</td>\n",
       "      <td>95.2</td>\n",
       "      <td>94.8</td>\n",
       "      <td>99.0</td>\n",
       "      <td>99.3</td>\n",
       "      <td>49.5</td>\n",
       "      <td>80.5</td>\n",
       "    </tr>\n",
       "    <tr>\n",
       "      <th>2</th>\n",
       "      <td>3</td>\n",
       "      <td>University of Cambridge</td>\n",
       "      <td>United Kingdom</td>\n",
       "      <td>20,185</td>\n",
       "      <td>11.3</td>\n",
       "      <td>39%</td>\n",
       "      <td>47 : 53</td>\n",
       "      <td>94.8</td>\n",
       "      <td>90.9</td>\n",
       "      <td>99.5</td>\n",
       "      <td>97.0</td>\n",
       "      <td>54.2</td>\n",
       "      <td>95.8</td>\n",
       "    </tr>\n",
       "    <tr>\n",
       "      <th>3</th>\n",
       "      <td>3</td>\n",
       "      <td>Stanford University</td>\n",
       "      <td>United States</td>\n",
       "      <td>16,164</td>\n",
       "      <td>7.1</td>\n",
       "      <td>24%</td>\n",
       "      <td>46 : 54</td>\n",
       "      <td>94.8</td>\n",
       "      <td>94.2</td>\n",
       "      <td>96.7</td>\n",
       "      <td>99.8</td>\n",
       "      <td>65.0</td>\n",
       "      <td>79.8</td>\n",
       "    </tr>\n",
       "    <tr>\n",
       "      <th>4</th>\n",
       "      <td>5</td>\n",
       "      <td>Massachusetts Institute of Technology</td>\n",
       "      <td>United States</td>\n",
       "      <td>11,415</td>\n",
       "      <td>8.2</td>\n",
       "      <td>33%</td>\n",
       "      <td>40 : 60</td>\n",
       "      <td>94.2</td>\n",
       "      <td>90.7</td>\n",
       "      <td>93.6</td>\n",
       "      <td>99.8</td>\n",
       "      <td>90.9</td>\n",
       "      <td>89.3</td>\n",
       "    </tr>\n",
       "    <tr>\n",
       "      <th>...</th>\n",
       "      <td>...</td>\n",
       "      <td>...</td>\n",
       "      <td>...</td>\n",
       "      <td>...</td>\n",
       "      <td>...</td>\n",
       "      <td>...</td>\n",
       "      <td>...</td>\n",
       "      <td>...</td>\n",
       "      <td>...</td>\n",
       "      <td>...</td>\n",
       "      <td>...</td>\n",
       "      <td>...</td>\n",
       "      <td>...</td>\n",
       "    </tr>\n",
       "    <tr>\n",
       "      <th>2336</th>\n",
       "      <td>-</td>\n",
       "      <td>University of the West of Scotland</td>\n",
       "      <td>NaN</td>\n",
       "      <td>NaN</td>\n",
       "      <td>NaN</td>\n",
       "      <td>NaN</td>\n",
       "      <td>NaN</td>\n",
       "      <td>34.0–39.2</td>\n",
       "      <td>24.1</td>\n",
       "      <td>15.5</td>\n",
       "      <td>61.5</td>\n",
       "      <td>37.9</td>\n",
       "      <td>76.8</td>\n",
       "    </tr>\n",
       "    <tr>\n",
       "      <th>2337</th>\n",
       "      <td>-</td>\n",
       "      <td>University of Windsor</td>\n",
       "      <td>NaN</td>\n",
       "      <td>NaN</td>\n",
       "      <td>NaN</td>\n",
       "      <td>NaN</td>\n",
       "      <td>NaN</td>\n",
       "      <td>34.0–39.2</td>\n",
       "      <td>35.1</td>\n",
       "      <td>29.4</td>\n",
       "      <td>34.5</td>\n",
       "      <td>44.2</td>\n",
       "      <td>88.7</td>\n",
       "    </tr>\n",
       "    <tr>\n",
       "      <th>2338</th>\n",
       "      <td>-</td>\n",
       "      <td>University of Wolverhampton</td>\n",
       "      <td>NaN</td>\n",
       "      <td>NaN</td>\n",
       "      <td>NaN</td>\n",
       "      <td>NaN</td>\n",
       "      <td>NaN</td>\n",
       "      <td>34.0–39.2</td>\n",
       "      <td>18.2</td>\n",
       "      <td>14.3</td>\n",
       "      <td>68.8</td>\n",
       "      <td>37.3</td>\n",
       "      <td>72.0</td>\n",
       "    </tr>\n",
       "    <tr>\n",
       "      <th>2339</th>\n",
       "      <td>-</td>\n",
       "      <td>University of Wuppertal</td>\n",
       "      <td>NaN</td>\n",
       "      <td>NaN</td>\n",
       "      <td>NaN</td>\n",
       "      <td>NaN</td>\n",
       "      <td>NaN</td>\n",
       "      <td>34.0–39.2</td>\n",
       "      <td>26.4</td>\n",
       "      <td>26.7</td>\n",
       "      <td>52.8</td>\n",
       "      <td>52.1</td>\n",
       "      <td>47.6</td>\n",
       "    </tr>\n",
       "    <tr>\n",
       "      <th>2340</th>\n",
       "      <td>-</td>\n",
       "      <td>Xi’an Jiaotong-Liverpool University</td>\n",
       "      <td>NaN</td>\n",
       "      <td>NaN</td>\n",
       "      <td>NaN</td>\n",
       "      <td>NaN</td>\n",
       "      <td>NaN</td>\n",
       "      <td>34.0–39.2</td>\n",
       "      <td>17.8</td>\n",
       "      <td>14.8</td>\n",
       "      <td>68.2</td>\n",
       "      <td>38.2</td>\n",
       "      <td>72.4</td>\n",
       "    </tr>\n",
       "  </tbody>\n",
       "</table>\n",
       "<p>2341 rows × 13 columns</p>\n",
       "</div>"
      ],
      "text/plain": [
       "     University Rank                     Name of University        Location  \\\n",
       "0                  1                   University of Oxford  United Kingdom   \n",
       "1                  2                     Harvard University   United States   \n",
       "2                  3                University of Cambridge  United Kingdom   \n",
       "3                  3                    Stanford University   United States   \n",
       "4                  5  Massachusetts Institute of Technology   United States   \n",
       "...              ...                                    ...             ...   \n",
       "2336               -     University of the West of Scotland             NaN   \n",
       "2337               -                  University of Windsor             NaN   \n",
       "2338               -            University of Wolverhampton             NaN   \n",
       "2339               -                University of Wuppertal             NaN   \n",
       "2340               -    Xi’an Jiaotong-Liverpool University             NaN   \n",
       "\n",
       "     No of student  No of student per staff International Student  \\\n",
       "0           20,965                     10.6                   42%   \n",
       "1           21,887                      9.6                   25%   \n",
       "2           20,185                     11.3                   39%   \n",
       "3           16,164                      7.1                   24%   \n",
       "4           11,415                      8.2                   33%   \n",
       "...            ...                      ...                   ...   \n",
       "2336           NaN                      NaN                   NaN   \n",
       "2337           NaN                      NaN                   NaN   \n",
       "2338           NaN                      NaN                   NaN   \n",
       "2339           NaN                      NaN                   NaN   \n",
       "2340           NaN                      NaN                   NaN   \n",
       "\n",
       "     Female:Male Ratio OverAll Score  Teaching Score  Research Score  \\\n",
       "0              48 : 52          96.4            92.3            99.7   \n",
       "1              50 : 50          95.2            94.8            99.0   \n",
       "2              47 : 53          94.8            90.9            99.5   \n",
       "3              46 : 54          94.8            94.2            96.7   \n",
       "4              40 : 60          94.2            90.7            93.6   \n",
       "...                ...           ...             ...             ...   \n",
       "2336               NaN     34.0–39.2            24.1            15.5   \n",
       "2337               NaN     34.0–39.2            35.1            29.4   \n",
       "2338               NaN     34.0–39.2            18.2            14.3   \n",
       "2339               NaN     34.0–39.2            26.4            26.7   \n",
       "2340               NaN     34.0–39.2            17.8            14.8   \n",
       "\n",
       "      Citations Score  Industry Income Score  International Outlook Score  \n",
       "0                99.0                   74.9                         96.2  \n",
       "1                99.3                   49.5                         80.5  \n",
       "2                97.0                   54.2                         95.8  \n",
       "3                99.8                   65.0                         79.8  \n",
       "4                99.8                   90.9                         89.3  \n",
       "...               ...                    ...                          ...  \n",
       "2336             61.5                   37.9                         76.8  \n",
       "2337             34.5                   44.2                         88.7  \n",
       "2338             68.8                   37.3                         72.0  \n",
       "2339             52.8                   52.1                         47.6  \n",
       "2340             68.2                   38.2                         72.4  \n",
       "\n",
       "[2341 rows x 13 columns]"
      ]
     },
     "execution_count": 5,
     "metadata": {},
     "output_type": "execute_result"
    }
   ],
   "source": [
    "df = pd.read_csv(\"World+University+Rankings+2023.csv\")\n",
    "df"
   ]
  },
  {
   "cell_type": "code",
   "execution_count": 6,
   "id": "7022dd817f110310",
   "metadata": {
    "ExecuteTime": {
     "end_time": "2024-03-04T13:52:54.120664800Z",
     "start_time": "2024-03-04T13:52:54.113382900Z"
    },
    "collapsed": false
   },
   "outputs": [
    {
     "name": "stdout",
     "output_type": "stream",
     "text": [
      "How many universities are there in the dataset? 2233\n"
     ]
    }
   ],
   "source": [
    "print('How many universities are there in the dataset? {}'.format(df['Name of University'].count()))"
   ]
  },
  {
   "cell_type": "code",
   "execution_count": 7,
   "id": "6546283266fa85c",
   "metadata": {
    "ExecuteTime": {
     "end_time": "2024-03-04T13:52:54.137515700Z",
     "start_time": "2024-03-04T13:52:54.120664800Z"
    },
    "collapsed": false
   },
   "outputs": [
    {
     "name": "stdout",
     "output_type": "stream",
     "text": [
      "How many different countries are there? 116\n"
     ]
    }
   ],
   "source": [
    "df2 = df.groupby(['Location']).count().reset_index()[['Location']]\n",
    "df2 = df2['Location'].count()\n",
    "\n",
    "print('How many different countries are there? {}'.format(df2))"
   ]
  },
  {
   "cell_type": "code",
   "execution_count": 8,
   "id": "6d2c019dd331ddf8",
   "metadata": {
    "ExecuteTime": {
     "end_time": "2024-03-04T13:52:54.138505300Z",
     "start_time": "2024-03-04T13:52:54.130672200Z"
    },
    "collapsed": false
   },
   "outputs": [
    {
     "name": "stdout",
     "output_type": "stream",
     "text": [
      "What is the distribition of contries in top 100 universities?\n",
      "           Location  count\n",
      "0    United States     34\n",
      "1   United Kingdom      7\n",
      "2          Germany      6\n",
      "3      Switzerland      4\n",
      "4        Australia      4\n",
      "5           France      4\n",
      "6      Netherlands      4\n",
      "7            China      3\n",
      "8           Canada      2\n",
      "9            Japan      2\n",
      "10     South Korea      2\n",
      "11       Singapore      1\n",
      "12          Sweden      1\n"
     ]
    }
   ],
   "source": [
    "# Filter out the top 100 universities\n",
    "top_100_universities = df.head(100)\n",
    "\n",
    "# Count the number of universities from each country\n",
    "country_counts = top_100_universities['Location'].value_counts().reset_index()\n",
    "\n",
    "# Print the country distribution\n",
    "print('What is the distribition of contries in top 100 universities?\\n {}'.format(country_counts))"
   ]
  },
  {
   "cell_type": "code",
   "execution_count": 9,
   "id": "64fa23cf95536d7",
   "metadata": {
    "ExecuteTime": {
     "end_time": "2024-03-04T13:54:42.129340100Z",
     "start_time": "2024-03-04T13:54:42.120143600Z"
    },
    "collapsed": false
   },
   "outputs": [
    {
     "name": "stdout",
     "output_type": "stream",
     "text": [
      "What is the average number of students in top 10 universities? 17408\n"
     ]
    }
   ],
   "source": [
    "df4 = df['No of student'].str.replace(\",\", \"\").astype(float)\n",
    "df4 = df4.head(10)\n",
    "df4 = df4.mean().astype(int)\n",
    "\n",
    "print('What is the average number of students in top 10 universities? {}'.format(df4))"
   ]
  },
  {
   "cell_type": "code",
   "execution_count": 10,
   "id": "c831347eb1cf7499",
   "metadata": {
    "ExecuteTime": {
     "end_time": "2024-03-04T14:08:21.136345700Z",
     "start_time": "2024-03-04T14:08:21.127270500Z"
    },
    "collapsed": false
   },
   "outputs": [
    {
     "name": "stdout",
     "output_type": "stream",
     "text": [
      "Which are the top 10 universities with more than 50% international student? Imperial College London\n"
     ]
    },
    {
     "name": "stderr",
     "output_type": "stream",
     "text": [
      "C:\\Users\\Donald.Modiba\\AppData\\Local\\Temp\\ipykernel_27736\\971226339.py:3: SettingWithCopyWarning: \n",
      "A value is trying to be set on a copy of a slice from a DataFrame.\n",
      "Try using .loc[row_indexer,col_indexer] = value instead\n",
      "\n",
      "See the caveats in the documentation: https://pandas.pydata.org/pandas-docs/stable/user_guide/indexing.html#returning-a-view-versus-a-copy\n",
      "  df5['test'] = df5['International Student'].head(10).str.replace(\"%\",'.0').dropna().astype(float)\n"
     ]
    }
   ],
   "source": [
    "df5 = df.head(10)\n",
    "# df5 = df5['International Student'].str.replace(\"%\",'.0').dropna().astype(float)\n",
    "df5['test'] = df5['International Student'].head(10).str.replace(\"%\",'.0').dropna().astype(float)\n",
    "df5 = df5[df5['test'] > 50].reset_index()\n",
    "\n",
    "UniName = df5['Name of University'].item()\n",
    "UniName\n",
    "\n",
    "print('Which are the top 10 universities with more than 50% international student? {}'.format(UniName))"
   ]
  },
  {
   "cell_type": "code",
   "execution_count": 11,
   "id": "e1f43f65",
   "metadata": {},
   "outputs": [
    {
     "name": "stdout",
     "output_type": "stream",
     "text": [
      "Which are the top 10 universities with a predominantly female presence? University of California, Berkeley and Yale University\n"
     ]
    }
   ],
   "source": [
    "df6 = df.head(10)\n",
    "df6.insert(7, \"Female\", df[\"Female:Male Ratio\"].str.split(\":\").str[0].str.strip().astype(float))\n",
    "df6.insert(7, \"Male\", df[\"Female:Male Ratio\"].str.split(\":\").str[-1].str.strip().astype(float))\n",
    "\n",
    "df6 = df6[df6['Female'] > df6['Male']]\n",
    "Uni_names = df6['Name of University'].reset_index(drop=True)\n",
    "Uni_names\n",
    "\n",
    "print('Which are the top 10 universities with a predominantly female presence? {} and {}'.format(Uni_names[0], Uni_names[1]))"
   ]
  }
 ],
 "metadata": {
  "kernelspec": {
   "display_name": "Python 3",
   "language": "python",
   "name": "python3"
  },
  "language_info": {
   "codemirror_mode": {
    "name": "ipython",
    "version": 3
   },
   "file_extension": ".py",
   "mimetype": "text/x-python",
   "name": "python",
   "nbconvert_exporter": "python",
   "pygments_lexer": "ipython3",
   "version": "3.11.4"
  }
 },
 "nbformat": 4,
 "nbformat_minor": 5
}
