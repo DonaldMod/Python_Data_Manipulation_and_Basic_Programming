{
 "cells": [
  {
   "cell_type": "code",
   "execution_count": 41,
   "id": "initial_id",
   "metadata": {
    "collapsed": true,
    "ExecuteTime": {
     "end_time": "2024-02-19T13:27:03.786658900Z",
     "start_time": "2024-02-19T13:27:03.778888200Z"
    }
   },
   "outputs": [
    {
     "name": "stdout",
     "output_type": "stream",
     "text": [
      "3\n",
      "5\n",
      "[5, 6, 38]\n",
      "[4, 5, 6, 38, 3]\n",
      "[8, 5, 3, 38, 6, 5, 4]\n",
      "[20, 4, 5, 6, 38, 3, 5, 8, 10, 90, 50, 65, 4, 56, 36, 952, 5, 8]\n",
      "0\n",
      "3\n",
      "10\n",
      "1365\n",
      "[3, 4, 4, 5, 5, 5, 6, 8, 8, 10, 20, 36, 38, 50, 56, 65, 90, 952]\n",
      "3\n",
      "952\n",
      "[20, 4, 5, 6, 38, 3, 5, 8, 10, 90, 50, 65, 4, 56, 36, 952, 5, 8]\n"
     ]
    }
   ],
   "source": [
    "list1 = [4,5,6,38,3,5,8]\n",
    "list2 = [90,50,60,65,4,56,36,952,5,8]\n",
    "\n",
    "el1 = list1[4]\n",
    "el3rev = list1[-2]\n",
    "el4range = list1[1:4]\n",
    "el5revRange = list1[:-2]\n",
    "el6revRange1 = list1[::-1]\n",
    "list1.append(10)\n",
    "list1.insert(0,20)\n",
    "list1.extend(list2)\n",
    "indexing = list1.index(20)\n",
    "counting = list1.count(5)\n",
    "list1.remove(60)\n",
    "sorting = sorted(list1)\n",
    "minim = min(list1)\n",
    "maxim = max(list1)\n",
    "\n",
    "print(el1)\n",
    "print(el3rev)\n",
    "print(el4range)\n",
    "print(el5revRange)\n",
    "print(el6revRange1)\n",
    "print(list1)\n",
    "print(indexing)\n",
    "print(counting)\n",
    "print(len(list2))\n",
    "print(sum(list1))\n",
    "print(sorting)\n",
    "print(minim)\n",
    "print(maxim)\n",
    "\n",
    "#list1.clear()\n",
    "print(list1)\n"
   ]
  },
  {
   "cell_type": "code",
   "outputs": [
    {
     "name": "stdout",
     "output_type": "stream",
     "text": [
      "[20, 4, 5, 6, 38, 3, 5, 8, 10, 90, 50, 65, 4, 56, 36, 952, 5, 8]\n",
      "[[1, 2, 3], [4, 5, 6], [7, 8, 9]]\n",
      "[7, 8, 9]\n",
      "5\n"
     ]
    }
   ],
   "source": [
    "list_copy = list1.copy()\n",
    "nested_list = [[1, 2, 3], [4, 5, 6], [7, 8, 9]]\n",
    "\n",
    "\n",
    "print(list_copy)\n",
    "print(nested_list)\n",
    "print(nested_list[2])\n",
    "print(nested_list[1][1])\n",
    "  "
   ],
   "metadata": {
    "collapsed": false,
    "ExecuteTime": {
     "end_time": "2024-02-19T13:28:53.147069700Z",
     "start_time": "2024-02-19T13:28:53.139169Z"
    }
   },
   "id": "6a8c8686d09c1496",
   "execution_count": 52
  }
 ],
 "metadata": {
  "kernelspec": {
   "display_name": "Python 3",
   "language": "python",
   "name": "python3"
  },
  "language_info": {
   "codemirror_mode": {
    "name": "ipython",
    "version": 2
   },
   "file_extension": ".py",
   "mimetype": "text/x-python",
   "name": "python",
   "nbconvert_exporter": "python",
   "pygments_lexer": "ipython2",
   "version": "2.7.6"
  }
 },
 "nbformat": 4,
 "nbformat_minor": 5
}
