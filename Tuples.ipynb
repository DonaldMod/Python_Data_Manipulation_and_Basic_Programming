{
 "cells": [
  {
   "cell_type": "code",
   "execution_count": 18,
   "id": "initial_id",
   "metadata": {
    "collapsed": true,
    "ExecuteTime": {
     "end_time": "2024-02-21T14:00:32.459448500Z",
     "start_time": "2024-02-21T14:00:32.451134900Z"
    }
   },
   "outputs": [
    {
     "name": "stdout",
     "output_type": "stream",
     "text": [
      "(1, 2, 3, 4, 5, 6, 7, 8, 9)\n",
      "2\n",
      "(1, 2, 3, 4, 5, 6, 7, 8, 9, 10, 11, 12, 13, 4, 4)\n",
      "3\n",
      "3\n",
      "(4, 5, 6, 7)\n",
      "(1, 2, 3, 4, 5, 6, 7)\n"
     ]
    }
   ],
   "source": [
    "tpl = (1,2,3,4,5,6,7,8,9)\n",
    "\n",
    "print(tpl)\n",
    "print(tpl[1])\n",
    "\n",
    "tpl += (10,11,12,13,4,4)\n",
    "tpl_El_Counter = tpl.count(4)\n",
    "tpl_Indexer = tpl.index(4)\n",
    "tplRange = tpl[3:7]\n",
    "tplRange1 = tpl[:7]\n",
    "\n",
    "print(tpl)\n",
    "print(tpl_El_Counter)\n",
    "print(tpl_Indexer)\n",
    "print(tplRange)\n",
    "print(tplRange1)\n"
   ]
  }
 ],
 "metadata": {
  "kernelspec": {
   "display_name": "Python 3",
   "language": "python",
   "name": "python3"
  },
  "language_info": {
   "codemirror_mode": {
    "name": "ipython",
    "version": 2
   },
   "file_extension": ".py",
   "mimetype": "text/x-python",
   "name": "python",
   "nbconvert_exporter": "python",
   "pygments_lexer": "ipython2",
   "version": "2.7.6"
  }
 },
 "nbformat": 4,
 "nbformat_minor": 5
}
