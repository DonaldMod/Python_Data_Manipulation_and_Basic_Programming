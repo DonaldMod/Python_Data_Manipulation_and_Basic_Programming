{
 "cells": [
  {
   "cell_type": "code",
   "execution_count": 1,
   "id": "initial_id",
   "metadata": {
    "collapsed": true,
    "ExecuteTime": {
     "end_time": "2024-02-26T09:03:31.032949Z",
     "start_time": "2024-02-26T09:03:30.981377300Z"
    }
   },
   "outputs": [
    {
     "name": "stdout",
     "output_type": "stream",
     "text": [
      "{1, 2, 3, 4}\n",
      "{4, 5, 6, 7}\n",
      "{3, 5, 6}\n"
     ]
    }
   ],
   "source": [
    "my_set = {1, 2, 3, 4}\n",
    "another_set = set([4, 5, 6, 7])\n",
    "another_set1 = set((5,6,3,6))\n",
    " \n",
    "print(my_set)\n",
    "print(another_set)\n",
    "print(another_set1)"
   ]
  },
  {
   "cell_type": "code",
   "outputs": [
    {
     "name": "stdout",
     "output_type": "stream",
     "text": [
      "{1, 2, 3, 4, 5, 6, 8, 9}\n"
     ]
    }
   ],
   "source": [
    "unique_set = {1, 2, 3, 3, 4, 4, 5,5,5,5,5,6,6,3,6,9,8,5,2}\n",
    "\n",
    "print(unique_set)"
   ],
   "metadata": {
    "collapsed": false,
    "ExecuteTime": {
     "end_time": "2024-02-26T09:03:31.035473200Z",
     "start_time": "2024-02-26T09:03:31.002889200Z"
    }
   },
   "id": "f3a354283a44f35e",
   "execution_count": 2
  },
  {
   "cell_type": "code",
   "outputs": [
    {
     "name": "stdout",
     "output_type": "stream",
     "text": [
      "{1, 2, 3, 4, 5}\n",
      "{1, 2, 3, 4, 5}\n"
     ]
    }
   ],
   "source": [
    "set_a = {1, 2, 3}\n",
    "set_b = {3, 4, 5}\n",
    "\n",
    "# Union\n",
    "union_result = set_a | set_b  \n",
    "print(union_result)  # Output: {1, 2, 3, 4, 5}\n",
    "\n",
    "union_result = set_a.union(set_b)\n",
    "print(union_result)"
   ],
   "metadata": {
    "collapsed": false,
    "ExecuteTime": {
     "end_time": "2024-02-26T09:03:31.100551300Z",
     "start_time": "2024-02-26T09:03:31.013227400Z"
    }
   },
   "id": "483f15bc96edc418",
   "execution_count": 3
  },
  {
   "cell_type": "code",
   "outputs": [
    {
     "name": "stdout",
     "output_type": "stream",
     "text": [
      "{3}\n",
      "{3}\n"
     ]
    }
   ],
   "source": [
    " # Intersection\n",
    "intersection_result = set_a & set_b\n",
    "print(intersection_result)  # Output: {3}\n",
    "\n",
    "intersection_result1 = set_a.intersection(set_b)\n",
    "print(intersection_result1)"
   ],
   "metadata": {
    "collapsed": false,
    "ExecuteTime": {
     "end_time": "2024-02-26T09:03:31.101641500Z",
     "start_time": "2024-02-26T09:03:31.022817400Z"
    }
   },
   "id": "20979c7fde47e18e",
   "execution_count": 4
  },
  {
   "cell_type": "code",
   "outputs": [
    {
     "name": "stdout",
     "output_type": "stream",
     "text": [
      "{1, 2}\n",
      "{1, 2}\n"
     ]
    }
   ],
   "source": [
    "# Difference\n",
    "difference_result = set_a - set_b\n",
    "print(difference_result)  # Output: {1, 2}\n",
    "\n",
    "difference_result1 = set_a.difference(set_b)\n",
    "print(difference_result1)"
   ],
   "metadata": {
    "collapsed": false,
    "ExecuteTime": {
     "end_time": "2024-02-26T09:03:31.122325600Z",
     "start_time": "2024-02-26T09:03:31.036470600Z"
    }
   },
   "id": "a3d9f86678c7d2e1",
   "execution_count": 5
  },
  {
   "cell_type": "code",
   "outputs": [
    {
     "name": "stdout",
     "output_type": "stream",
     "text": [
      "{1, 2, 4, 5}\n",
      "{1, 2, 4, 5}\n"
     ]
    }
   ],
   "source": [
    "# Symmetric Difference\n",
    "symmetric_difference_result = set_a ^ set_b \n",
    "print(symmetric_difference_result)  # Output: {1, 2, 4, 5}\n",
    "\n",
    "symmetric_difference_result1 = set_a.symmetric_difference(set_b)\n",
    "print(symmetric_difference_result1)"
   ],
   "metadata": {
    "collapsed": false,
    "ExecuteTime": {
     "end_time": "2024-02-26T09:03:31.145037100Z",
     "start_time": "2024-02-26T09:03:31.108274200Z"
    }
   },
   "id": "f53e61f3f47a31f6",
   "execution_count": 6
  },
  {
   "cell_type": "code",
   "outputs": [
    {
     "name": "stdout",
     "output_type": "stream",
     "text": [
      "{1, 2, 3, 4}\n",
      "{1, 3, 4}\n",
      "{1, 4}\n",
      "set()\n",
      "[]\n"
     ]
    }
   ],
   "source": [
    "my_set = {1, 2, 3}\n",
    " \n",
    "my_set.add(4)  # Add element 4 to the set\n",
    "print(my_set)  # Output: {1, 2, 3, 4}\n",
    "\n",
    "my_set.remove(2)  # Remove element 2 from the set\n",
    "print(my_set)  # Output: {1, 3, 4}\n",
    "\n",
    "my_set.discard(3)  # Remove element 3 from the set using discard\n",
    "print(my_set)  # Output: {1, 4}\n",
    "\n",
    "my_set.clear()  # Clear all elements from the set\n",
    "print(my_set)  # Output: set()\n",
    "\n",
    "\n",
    "lisst = [4,5,6,2,3,5858,2322,52]\n",
    "lisst.clear()\n",
    "print(lisst)"
   ],
   "metadata": {
    "collapsed": false,
    "ExecuteTime": {
     "end_time": "2024-02-26T09:03:31.216709500Z",
     "start_time": "2024-02-26T09:03:31.149037300Z"
    }
   },
   "id": "80417d0fc43a7a61",
   "execution_count": 7
  },
  {
   "cell_type": "code",
   "outputs": [
    {
     "name": "stdout",
     "output_type": "stream",
     "text": [
      "True\n",
      "False\n",
      "4\n"
     ]
    }
   ],
   "source": [
    "my_set = {1, 2, 3, 4}\n",
    "\n",
    "bool1 = 2 in my_set\n",
    "bool2 = 5 in my_set\n",
    "len1 = len(my_set)\n",
    "print(bool1)  # Output: True\n",
    "print(bool2)  # Output: False\n",
    " \n",
    "print(len1)  # Output: 4"
   ],
   "metadata": {
    "collapsed": false,
    "ExecuteTime": {
     "end_time": "2024-02-26T09:03:31.281269800Z",
     "start_time": "2024-02-26T09:03:31.218743700Z"
    }
   },
   "id": "1402bb39f2410c3e",
   "execution_count": 8
  },
  {
   "cell_type": "code",
   "outputs": [
    {
     "name": "stdout",
     "output_type": "stream",
     "text": [
      "False\n"
     ]
    }
   ],
   "source": [
    "def is_balanced_parentheses(s):\n",
    "    # Your code here\n",
    "    checker = True\n",
    "    counts = 0\n",
    "    cn = 0\n",
    "    for i in range(0, len(s)):\n",
    "        # TODO: write code...\n",
    "        counts += 1\n",
    "        if s[i] == s[-counts]:\n",
    "            # TODO: write code...\n",
    "            cn += 1\n",
    "        else:\n",
    "            checker = False\n",
    "            return checker\n",
    "        \n",
    "    if len(s) == cn:\n",
    "        # TODO: write code...\n",
    "        checker = True\n",
    "        return checker\n",
    "    \n",
    "    \n",
    "\n",
    "parent = \"()\"\n",
    "print(is_balanced_parentheses(parent))"
   ],
   "metadata": {
    "collapsed": false,
    "ExecuteTime": {
     "end_time": "2024-02-23T17:14:47.616712600Z",
     "start_time": "2024-02-23T17:14:47.603327200Z"
    }
   },
   "id": "6e7588ed2d8c3df9",
   "execution_count": 15
  }
 ],
 "metadata": {
  "kernelspec": {
   "display_name": "Python 3",
   "language": "python",
   "name": "python3"
  },
  "language_info": {
   "codemirror_mode": {
    "name": "ipython",
    "version": 2
   },
   "file_extension": ".py",
   "mimetype": "text/x-python",
   "name": "python",
   "nbconvert_exporter": "python",
   "pygments_lexer": "ipython2",
   "version": "2.7.6"
  }
 },
 "nbformat": 4,
 "nbformat_minor": 5
}
