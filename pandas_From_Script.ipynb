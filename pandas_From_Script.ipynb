{
 "cells": [
  {
   "cell_type": "code",
   "execution_count": 1,
   "id": "initial_id",
   "metadata": {
    "collapsed": true,
    "ExecuteTime": {
     "end_time": "2024-02-29T17:23:48.992681900Z",
     "start_time": "2024-02-29T17:23:47.260753200Z"
    }
   },
   "outputs": [],
   "source": [
    "import pandas as pd"
   ]
  },
  {
   "cell_type": "code",
   "outputs": [],
   "source": [
    "# Creating a DataFrame from a dictionary\n",
    "data = {'Name': ['John', 'Alice', 'Bob'],\n",
    "        'Age': [25, 28, 22],\n",
    "        'City': ['New York', 'San Francisco', 'Seattle']}\n",
    " \n",
    "df = pd.DataFrame(data)"
   ],
   "metadata": {
    "collapsed": false,
    "ExecuteTime": {
     "end_time": "2024-02-29T17:23:57.151797100Z",
     "start_time": "2024-02-29T17:23:57.136602800Z"
    }
   },
   "id": "2f7e53dbab7e328",
   "execution_count": 2
  },
  {
   "cell_type": "code",
   "outputs": [
    {
     "data": {
      "text/plain": "    Name  Age           City\n0   John   25       New York\n1  Alice   28  San Francisco\n2    Bob   22        Seattle",
      "text/html": "<div>\n<style scoped>\n    .dataframe tbody tr th:only-of-type {\n        vertical-align: middle;\n    }\n\n    .dataframe tbody tr th {\n        vertical-align: top;\n    }\n\n    .dataframe thead th {\n        text-align: right;\n    }\n</style>\n<table border=\"1\" class=\"dataframe\">\n  <thead>\n    <tr style=\"text-align: right;\">\n      <th></th>\n      <th>Name</th>\n      <th>Age</th>\n      <th>City</th>\n    </tr>\n  </thead>\n  <tbody>\n    <tr>\n      <th>0</th>\n      <td>John</td>\n      <td>25</td>\n      <td>New York</td>\n    </tr>\n    <tr>\n      <th>1</th>\n      <td>Alice</td>\n      <td>28</td>\n      <td>San Francisco</td>\n    </tr>\n    <tr>\n      <th>2</th>\n      <td>Bob</td>\n      <td>22</td>\n      <td>Seattle</td>\n    </tr>\n  </tbody>\n</table>\n</div>"
     },
     "execution_count": 3,
     "metadata": {},
     "output_type": "execute_result"
    }
   ],
   "source": [
    "df"
   ],
   "metadata": {
    "collapsed": false,
    "ExecuteTime": {
     "end_time": "2024-02-29T17:24:02.042865500Z",
     "start_time": "2024-02-29T17:24:02.028405Z"
    }
   },
   "id": "44ac841eb72105b3",
   "execution_count": 3
  },
  {
   "cell_type": "code",
   "outputs": [
    {
     "data": {
      "text/plain": "0     John\n1    Alice\n2      Bob\nName: Name, dtype: object"
     },
     "execution_count": 6,
     "metadata": {},
     "output_type": "execute_result"
    }
   ],
   "source": [
    "names = df['Name']\n",
    "names"
   ],
   "metadata": {
    "collapsed": false,
    "ExecuteTime": {
     "end_time": "2024-02-29T17:24:57.125251200Z",
     "start_time": "2024-02-29T17:24:57.112089900Z"
    }
   },
   "id": "50bdff93c7e26bf3",
   "execution_count": 6
  },
  {
   "cell_type": "code",
   "outputs": [
    {
     "data": {
      "text/plain": "    Name  Age           City\n1  Alice   28  San Francisco\n2    Bob   22        Seattle",
      "text/html": "<div>\n<style scoped>\n    .dataframe tbody tr th:only-of-type {\n        vertical-align: middle;\n    }\n\n    .dataframe tbody tr th {\n        vertical-align: top;\n    }\n\n    .dataframe thead th {\n        text-align: right;\n    }\n</style>\n<table border=\"1\" class=\"dataframe\">\n  <thead>\n    <tr style=\"text-align: right;\">\n      <th></th>\n      <th>Name</th>\n      <th>Age</th>\n      <th>City</th>\n    </tr>\n  </thead>\n  <tbody>\n    <tr>\n      <th>1</th>\n      <td>Alice</td>\n      <td>28</td>\n      <td>San Francisco</td>\n    </tr>\n    <tr>\n      <th>2</th>\n      <td>Bob</td>\n      <td>22</td>\n      <td>Seattle</td>\n    </tr>\n  </tbody>\n</table>\n</div>"
     },
     "execution_count": 12,
     "metadata": {},
     "output_type": "execute_result"
    }
   ],
   "source": [
    "# Slicing rows\n",
    "subset = df[1:3]\n",
    "subset"
   ],
   "metadata": {
    "collapsed": false,
    "ExecuteTime": {
     "end_time": "2024-02-29T17:29:41.625099800Z",
     "start_time": "2024-02-29T17:29:41.577348500Z"
    }
   },
   "id": "45fb62ea0689b6bd",
   "execution_count": 12
  },
  {
   "cell_type": "code",
   "outputs": [
    {
     "data": {
      "text/plain": "    Name  Age           City  Salary\n0   John   25       New York   50000\n1  Alice   28  San Francisco   60000\n2    Bob   22        Seattle   70000",
      "text/html": "<div>\n<style scoped>\n    .dataframe tbody tr th:only-of-type {\n        vertical-align: middle;\n    }\n\n    .dataframe tbody tr th {\n        vertical-align: top;\n    }\n\n    .dataframe thead th {\n        text-align: right;\n    }\n</style>\n<table border=\"1\" class=\"dataframe\">\n  <thead>\n    <tr style=\"text-align: right;\">\n      <th></th>\n      <th>Name</th>\n      <th>Age</th>\n      <th>City</th>\n      <th>Salary</th>\n    </tr>\n  </thead>\n  <tbody>\n    <tr>\n      <th>0</th>\n      <td>John</td>\n      <td>25</td>\n      <td>New York</td>\n      <td>50000</td>\n    </tr>\n    <tr>\n      <th>1</th>\n      <td>Alice</td>\n      <td>28</td>\n      <td>San Francisco</td>\n      <td>60000</td>\n    </tr>\n    <tr>\n      <th>2</th>\n      <td>Bob</td>\n      <td>22</td>\n      <td>Seattle</td>\n      <td>70000</td>\n    </tr>\n  </tbody>\n</table>\n</div>"
     },
     "execution_count": 15,
     "metadata": {},
     "output_type": "execute_result"
    }
   ],
   "source": [
    "# Adding a new column\n",
    "df['Salary'] = [50000, 60000, 70000]\n",
    "df"
   ],
   "metadata": {
    "collapsed": false,
    "ExecuteTime": {
     "end_time": "2024-02-29T17:29:58.781300300Z",
     "start_time": "2024-02-29T17:29:58.767074200Z"
    }
   },
   "id": "c026b4777900df",
   "execution_count": 15
  },
  {
   "cell_type": "code",
   "outputs": [
    {
     "data": {
      "text/plain": "  Name  Age     City  Salary\n2  Bob   22  Seattle   70000",
      "text/html": "<div>\n<style scoped>\n    .dataframe tbody tr th:only-of-type {\n        vertical-align: middle;\n    }\n\n    .dataframe tbody tr th {\n        vertical-align: top;\n    }\n\n    .dataframe thead th {\n        text-align: right;\n    }\n</style>\n<table border=\"1\" class=\"dataframe\">\n  <thead>\n    <tr style=\"text-align: right;\">\n      <th></th>\n      <th>Name</th>\n      <th>Age</th>\n      <th>City</th>\n      <th>Salary</th>\n    </tr>\n  </thead>\n  <tbody>\n    <tr>\n      <th>2</th>\n      <td>Bob</td>\n      <td>22</td>\n      <td>Seattle</td>\n      <td>70000</td>\n    </tr>\n  </tbody>\n</table>\n</div>"
     },
     "execution_count": 19,
     "metadata": {},
     "output_type": "execute_result"
    }
   ],
   "source": [
    "# Filtering rows\n",
    "youngsters = df[df['Age'] < 25]\n",
    "youngsters"
   ],
   "metadata": {
    "collapsed": false,
    "ExecuteTime": {
     "end_time": "2024-02-29T17:34:03.879614800Z",
     "start_time": "2024-02-29T17:34:03.862451800Z"
    }
   },
   "id": "51d021b12ec281b4",
   "execution_count": 19
  },
  {
   "cell_type": "code",
   "outputs": [
    {
     "data": {
      "text/plain": "0    25\n1    28\n2    22\nName: Age, dtype: int64"
     },
     "execution_count": 21,
     "metadata": {},
     "output_type": "execute_result"
    }
   ],
   "source": [
    "# Creating a Series from a list\n",
    "ages = pd.Series([25, 28, 22], name='Age')\n",
    "ages"
   ],
   "metadata": {
    "collapsed": false,
    "ExecuteTime": {
     "end_time": "2024-02-29T17:37:45.433692500Z",
     "start_time": "2024-02-29T17:37:45.426376200Z"
    }
   },
   "id": "a3425bc43b5b0044",
   "execution_count": 21
  },
  {
   "cell_type": "code",
   "outputs": [
    {
     "data": {
      "text/plain": "25"
     },
     "execution_count": 42,
     "metadata": {},
     "output_type": "execute_result"
    }
   ],
   "source": [
    "# Accessing elements by index\n",
    "first_age = ages[0]\n",
    "first_age"
   ],
   "metadata": {
    "collapsed": false,
    "ExecuteTime": {
     "end_time": "2024-02-29T17:45:31.845916300Z",
     "start_time": "2024-02-29T17:45:31.839268400Z"
    }
   },
   "id": "e4d316608b9aa18e",
   "execution_count": 42
  },
  {
   "cell_type": "code",
   "outputs": [
    {
     "data": {
      "text/plain": "0    300\n1    336\n2    264\nName: Age, dtype: int64"
     },
     "execution_count": 45,
     "metadata": {},
     "output_type": "execute_result"
    }
   ],
   "source": [
    "# Applying a function to each element\n",
    "ages_in_months = ages.apply(lambda x: x * 12)\n",
    "ages_in_months"
   ],
   "metadata": {
    "collapsed": false,
    "ExecuteTime": {
     "end_time": "2024-02-29T17:53:26.517946300Z",
     "start_time": "2024-02-29T17:53:26.504753900Z"
    }
   },
   "id": "7f420aa128a72c4c",
   "execution_count": 45
  },
  {
   "cell_type": "code",
   "outputs": [
    {
     "data": {
      "text/plain": "    Name  Age           City  Salary  test\n0   John   25       New York   50000   300\n1  Alice   28  San Francisco   60000   336\n2    Bob   22        Seattle   70000   264",
      "text/html": "<div>\n<style scoped>\n    .dataframe tbody tr th:only-of-type {\n        vertical-align: middle;\n    }\n\n    .dataframe tbody tr th {\n        vertical-align: top;\n    }\n\n    .dataframe thead th {\n        text-align: right;\n    }\n</style>\n<table border=\"1\" class=\"dataframe\">\n  <thead>\n    <tr style=\"text-align: right;\">\n      <th></th>\n      <th>Name</th>\n      <th>Age</th>\n      <th>City</th>\n      <th>Salary</th>\n      <th>test</th>\n    </tr>\n  </thead>\n  <tbody>\n    <tr>\n      <th>0</th>\n      <td>John</td>\n      <td>25</td>\n      <td>New York</td>\n      <td>50000</td>\n      <td>300</td>\n    </tr>\n    <tr>\n      <th>1</th>\n      <td>Alice</td>\n      <td>28</td>\n      <td>San Francisco</td>\n      <td>60000</td>\n      <td>336</td>\n    </tr>\n    <tr>\n      <th>2</th>\n      <td>Bob</td>\n      <td>22</td>\n      <td>Seattle</td>\n      <td>70000</td>\n      <td>264</td>\n    </tr>\n  </tbody>\n</table>\n</div>"
     },
     "execution_count": 47,
     "metadata": {},
     "output_type": "execute_result"
    }
   ],
   "source": [
    "df[\"test\"] = ages_in_months\n",
    "df"
   ],
   "metadata": {
    "collapsed": false,
    "ExecuteTime": {
     "end_time": "2024-02-29T17:54:51.877853400Z",
     "start_time": "2024-02-29T17:54:51.864278400Z"
    }
   },
   "id": "ea8d179766dd30f1",
   "execution_count": 47
  }
 ],
 "metadata": {
  "kernelspec": {
   "display_name": "Python 3",
   "language": "python",
   "name": "python3"
  },
  "language_info": {
   "codemirror_mode": {
    "name": "ipython",
    "version": 2
   },
   "file_extension": ".py",
   "mimetype": "text/x-python",
   "name": "python",
   "nbconvert_exporter": "python",
   "pygments_lexer": "ipython2",
   "version": "2.7.6"
  }
 },
 "nbformat": 4,
 "nbformat_minor": 5
}
