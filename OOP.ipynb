{
 "cells": [
  {
   "cell_type": "code",
   "execution_count": 3,
   "id": "initial_id",
   "metadata": {
    "collapsed": true,
    "ExecuteTime": {
     "end_time": "2024-02-27T08:45:58.670741400Z",
     "start_time": "2024-02-27T08:45:58.663649600Z"
    }
   },
   "outputs": [],
   "source": [
    "class Car:\n",
    "    def __init__(self, make, model, year):\n",
    "        self.make = make\n",
    "        self.model = model\n",
    "        self.year = year\n",
    "    \n",
    "    def display_info(self):\n",
    "        return f'{self.year} {self.make} {self.model}'\n"
   ]
  },
  {
   "cell_type": "code",
   "outputs": [],
   "source": [
    "car1 = Car(\"Toyota\", \"Camry\", 2022)\n",
    "car2 = Car('Tesla','Model S', 2023)\n"
   ],
   "metadata": {
    "collapsed": false,
    "ExecuteTime": {
     "end_time": "2024-02-27T08:46:00.246926700Z",
     "start_time": "2024-02-27T08:46:00.237416400Z"
    }
   },
   "id": "eabaf2c7392ac3d2",
   "execution_count": 4
  },
  {
   "cell_type": "code",
   "outputs": [
    {
     "name": "stdout",
     "output_type": "stream",
     "text": [
      "2022 Toyota Camry\n",
      "2023 Tesla Model S\n"
     ]
    }
   ],
   "source": [
    "print(car1.display_info())\n",
    "print(car2.display_info())"
   ],
   "metadata": {
    "collapsed": false,
    "ExecuteTime": {
     "end_time": "2024-02-27T08:46:02.372567400Z",
     "start_time": "2024-02-27T08:46:02.363448100Z"
    }
   },
   "id": "1209404235cfb7bf",
   "execution_count": 5
  },
  {
   "cell_type": "code",
   "outputs": [],
   "source": [
    "class ElectricCar(Car):\n",
    "    def __init__(self, make, model, year, battery_capacity):\n",
    "        super().__init__(make, model, year)\n",
    "        self.battery_capacity = battery_capacity\n",
    "    \n",
    "    def display_info(self):\n",
    "        return f'{self.year} {self.make} {self.model} with {self.battery_capacity} kWh battery'"
   ],
   "metadata": {
    "collapsed": false,
    "ExecuteTime": {
     "end_time": "2024-02-27T08:46:03.994887900Z",
     "start_time": "2024-02-27T08:46:03.988992700Z"
    }
   },
   "id": "d68f3679d30594e3",
   "execution_count": 6
  },
  {
   "cell_type": "code",
   "outputs": [
    {
     "name": "stdout",
     "output_type": "stream",
     "text": [
      "2023 MIssan Leaf with 40 kWh battery\n"
     ]
    }
   ],
   "source": [
    "electric_car = ElectricCar('MIssan', 'Leaf', 2023, 40)\n",
    "\n",
    "print(electric_car.display_info())"
   ],
   "metadata": {
    "collapsed": false,
    "ExecuteTime": {
     "end_time": "2024-02-27T08:46:08.046972300Z",
     "start_time": "2024-02-27T08:46:08.043243400Z"
    }
   },
   "id": "d27ca85a82a40bd3",
   "execution_count": 7
  },
  {
   "cell_type": "code",
   "outputs": [
    {
     "name": "stdout",
     "output_type": "stream",
     "text": [
      "None\n"
     ]
    }
   ],
   "source": [
    "def merge_sorted_lists(list1, list2):\n",
    "    # Your code here\n",
    "    list1.extend(list2)\n",
    "    po = list1.sort()\n",
    "    return po\n",
    "\n",
    "list11 = [1, 3, 5]\n",
    "list12 = [2, 4, 6]\n",
    "print(merge_sorted_lists(list11, list12))"
   ],
   "metadata": {
    "collapsed": false,
    "ExecuteTime": {
     "end_time": "2024-02-29T09:45:22.698653700Z",
     "start_time": "2024-02-29T09:45:22.692497800Z"
    }
   },
   "id": "2002e0379a4e0ba3",
   "execution_count": 20
  }
 ],
 "metadata": {
  "kernelspec": {
   "display_name": "Python 3",
   "language": "python",
   "name": "python3"
  },
  "language_info": {
   "codemirror_mode": {
    "name": "ipython",
    "version": 2
   },
   "file_extension": ".py",
   "mimetype": "text/x-python",
   "name": "python",
   "nbconvert_exporter": "python",
   "pygments_lexer": "ipython2",
   "version": "2.7.6"
  }
 },
 "nbformat": 4,
 "nbformat_minor": 5
}
